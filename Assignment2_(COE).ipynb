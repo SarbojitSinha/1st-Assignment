{
  "nbformat": 4,
  "nbformat_minor": 0,
  "metadata": {
    "colab": {
      "provenance": [],
      "authorship_tag": "ABX9TyMDLQ5vhPVR73rhL0JREZlX",
      "include_colab_link": true
    },
    "kernelspec": {
      "name": "python3",
      "display_name": "Python 3"
    },
    "language_info": {
      "name": "python"
    }
  },
  "cells": [
    {
      "cell_type": "markdown",
      "metadata": {
        "id": "view-in-github",
        "colab_type": "text"
      },
      "source": [
        "<a href=\"https://colab.research.google.com/github/SarbojitSinha/1st-Assignment/blob/main/Assignment2_(COE).ipynb\" target=\"_parent\"><img src=\"https://colab.research.google.com/assets/colab-badge.svg\" alt=\"Open In Colab\"/></a>"
      ]
    },
    {
      "cell_type": "code",
      "execution_count": 1,
      "metadata": {
        "colab": {
          "base_uri": "https://localhost:8080/"
        },
        "id": "oSVG7fsYZ22h",
        "outputId": "907e7ea7-4825-41c8-fe86-471095f79d6c"
      },
      "outputs": [
        {
          "name": "stdout",
          "output_type": "stream",
          "text": [
            "Select operation:\n",
            "1. Add\n",
            "2. Subtract\n",
            "3. Multiply\n",
            "4. Divide\n",
            "Enter choice(1/2/3/4): 1\n",
            "Enter first number: 35\n",
            "Enter second number: 76\n",
            "35.0 + 76.0 = 111.0\n",
            "Do you want to perform another calculation? (yes/no): no\n"
          ]
        }
      ],
      "source": [
        "def add(x, y):\n",
        "    return x + y\n",
        "\n",
        "def subtract(x, y):\n",
        "    return x - y\n",
        "\n",
        "def multiply(x, y):\n",
        "    return x * y\n",
        "\n",
        "def divide(x, y):\n",
        "    if y == 0:\n",
        "        return \"Error! Division by zero.\"\n",
        "    else:\n",
        "        return x / y\n",
        "\n",
        "def calculator():\n",
        "    print(\"Select operation:\")\n",
        "    print(\"1. Add\")\n",
        "    print(\"2. Subtract\")\n",
        "    print(\"3. Multiply\")\n",
        "    print(\"4. Divide\")\n",
        "\n",
        "    while True:\n",
        "        choice = input(\"Enter choice(1/2/3/4): \")\n",
        "\n",
        "        if choice in ('1', '2', '3', '4'):\n",
        "            try:\n",
        "                num1 = float(input(\"Enter first number: \"))\n",
        "                num2 = float(input(\"Enter second number: \"))\n",
        "            except ValueError:\n",
        "                print(\"Invalid input. Please enter numeric values.\")\n",
        "                continue\n",
        "\n",
        "            if choice == '1':\n",
        "                print(f\"{num1} + {num2} = {add(num1, num2)}\")\n",
        "\n",
        "            elif choice == '2':\n",
        "                print(f\"{num1} - {num2} = {subtract(num1, num2)}\")\n",
        "\n",
        "            elif choice == '3':\n",
        "                print(f\"{num1} * {num2} = {multiply(num1, num2)}\")\n",
        "\n",
        "            elif choice == '4':\n",
        "                print(f\"{num1} / {num2} = {divide(num1, num2)}\")\n",
        "\n",
        "            next_calculation = input(\"Do you want to perform another calculation? (yes/no): \")\n",
        "            if next_calculation.lower() != 'yes':\n",
        "                break\n",
        "        else:\n",
        "            print(\"Invalid input. Please enter a valid choice.\")\n",
        "\n",
        "if __name__ == \"__main__\":\n",
        "    calculator()"
      ]
    }
  ]
}