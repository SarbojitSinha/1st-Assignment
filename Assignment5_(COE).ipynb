{
  "nbformat": 4,
  "nbformat_minor": 0,
  "metadata": {
    "colab": {
      "provenance": [],
      "authorship_tag": "ABX9TyNyiJ+3tIVl2o3kTAP15SBh",
      "include_colab_link": true
    },
    "kernelspec": {
      "name": "python3",
      "display_name": "Python 3"
    },
    "language_info": {
      "name": "python"
    }
  },
  "cells": [
    {
      "cell_type": "markdown",
      "metadata": {
        "id": "view-in-github",
        "colab_type": "text"
      },
      "source": [
        "<a href=\"https://colab.research.google.com/github/SarbojitSinha/COE-Assignments/blob/main/Assignment5_(COE).ipynb\" target=\"_parent\"><img src=\"https://colab.research.google.com/assets/colab-badge.svg\" alt=\"Open In Colab\"/></a>"
      ]
    },
    {
      "cell_type": "markdown",
      "source": [
        "\n",
        "# Import necessary libraries"
      ],
      "metadata": {
        "id": "Stye4C-5yo-T"
      }
    },
    {
      "cell_type": "code",
      "source": [
        "import pandas as pd\n",
        "from sklearn.preprocessing import StandardScaler, LabelEncoder\n",
        "import numpy as np"
      ],
      "metadata": {
        "id": "BdG-P3V5wXEK"
      },
      "execution_count": 1,
      "outputs": []
    },
    {
      "cell_type": "markdown",
      "source": [
        "# Load the dataset\n"
      ],
      "metadata": {
        "id": "nqTE244iwzJr"
      }
    },
    {
      "cell_type": "code",
      "source": [
        "ile_path = '/content/titanic.csv'\n",
        "titanic_data = pd.read_csv('/content/titanic.csv')"
      ],
      "metadata": {
        "id": "F3GXv13-we2x"
      },
      "execution_count": 3,
      "outputs": []
    },
    {
      "cell_type": "markdown",
      "source": [
        "# Step 1: Data Cleaning\n",
        "# Dropping unnecessary columns\n"
      ],
      "metadata": {
        "id": "XRgaDkUZw0_6"
      }
    },
    {
      "cell_type": "code",
      "source": [
        "titanic_data_cleaned = titanic_data.drop(columns=['PassengerId', 'Name', 'Ticket', 'Cabin'])"
      ],
      "metadata": {
        "id": "9WTgGCmLwp67"
      },
      "execution_count": 4,
      "outputs": []
    },
    {
      "cell_type": "markdown",
      "source": [
        "# Step 2: Handling Missing Values\n",
        "# Filling missing values in 'Age' with the median\n"
      ],
      "metadata": {
        "id": "aK26--qWw8fZ"
      }
    },
    {
      "cell_type": "code",
      "source": [
        "titanic_data_cleaned['Age'].fillna(titanic_data_cleaned['Age'].median(), inplace=True)"
      ],
      "metadata": {
        "id": "WyJSRsnWwu-4"
      },
      "execution_count": 5,
      "outputs": []
    },
    {
      "cell_type": "markdown",
      "source": [
        "# Filling missing values in 'Embarked' with the mode\n"
      ],
      "metadata": {
        "id": "vkMpseJvxEpZ"
      }
    },
    {
      "cell_type": "code",
      "source": [
        "titanic_data_cleaned['Embarked'].fillna(titanic_data_cleaned['Embarked'].mode()[0], inplace=True)"
      ],
      "metadata": {
        "id": "1hM_W9bjxBgC"
      },
      "execution_count": 6,
      "outputs": []
    },
    {
      "cell_type": "markdown",
      "source": [
        "# Step 3: Transformation\n",
        "# Log transformation of 'Fare' to reduce skewness\n"
      ],
      "metadata": {
        "id": "LZQh6yvMxSkL"
      }
    },
    {
      "cell_type": "code",
      "source": [
        "titanic_data_cleaned['Fare'] = np.log1p(titanic_data_cleaned['Fare'])"
      ],
      "metadata": {
        "id": "dx7nCuqsxOeb"
      },
      "execution_count": 7,
      "outputs": []
    },
    {
      "cell_type": "markdown",
      "source": [
        "# Step 4: Normalization\n",
        "# Normalizing numerical columns\n"
      ],
      "metadata": {
        "id": "2b-GVAEvxYsS"
      }
    },
    {
      "cell_type": "code",
      "source": [
        "scaler = StandardScaler()\n",
        "titanic_data_cleaned[['Age', 'Fare']] = scaler.fit_transform(titanic_data_cleaned[['Age', 'Fare']])"
      ],
      "metadata": {
        "id": "xk7RWkpOxc7r"
      },
      "execution_count": 9,
      "outputs": []
    },
    {
      "cell_type": "markdown",
      "source": [
        "# Step 5: Encoding Categorical Variables\n",
        "# One-hot encoding categorical variables\n"
      ],
      "metadata": {
        "id": "v6FcyOTvx51z"
      }
    },
    {
      "cell_type": "code",
      "source": [
        "titanic_data_encoded = pd.get_dummies(titanic_data_cleaned, columns=['Sex', 'Embarked'])"
      ],
      "metadata": {
        "id": "AI8oPGMBx-C5"
      },
      "execution_count": 10,
      "outputs": []
    },
    {
      "cell_type": "markdown",
      "source": [
        "# Step 6: Feature Engineering\n",
        "# Creating a new feature 'FamilySize' by combining 'SibSp' and 'Parch'\n"
      ],
      "metadata": {
        "id": "aIdf008qyCCJ"
      }
    },
    {
      "cell_type": "code",
      "source": [
        "titanic_data_encoded['FamilySize'] = titanic_data_encoded['SibSp'] + titanic_data_encoded['Parch']"
      ],
      "metadata": {
        "id": "AdA_xK_dyFrR"
      },
      "execution_count": 11,
      "outputs": []
    },
    {
      "cell_type": "markdown",
      "source": [
        "# Dropping the original 'SibSp' and 'Parch' columns\n"
      ],
      "metadata": {
        "id": "pjGNZTqFyJ7R"
      }
    },
    {
      "cell_type": "code",
      "source": [
        "titanic_data_encoded.drop(columns=['SibSp', 'Parch'], inplace=True)"
      ],
      "metadata": {
        "id": "eSpZCLesyJdB"
      },
      "execution_count": 12,
      "outputs": []
    },
    {
      "cell_type": "markdown",
      "source": [
        "# Display the preprocessed data\n"
      ],
      "metadata": {
        "id": "Vy94B5trySlh"
      }
    },
    {
      "cell_type": "code",
      "source": [
        "print(titanic_data_encoded.head())"
      ],
      "metadata": {
        "colab": {
          "base_uri": "https://localhost:8080/"
        },
        "id": "FajtVa7dyVL5",
        "outputId": "5a3b1109-e11a-4efb-f11d-a194c476ef00"
      },
      "execution_count": 13,
      "outputs": [
        {
          "output_type": "stream",
          "name": "stdout",
          "text": [
            "   Survived  Pclass       Age      Fare  Sex_female  Sex_male  Embarked_C  \\\n",
            "0         0       3 -0.565736 -0.879741       False      True       False   \n",
            "1         1       1  0.663861  1.361220        True     False        True   \n",
            "2         1       3 -0.258337 -0.798540        True     False       False   \n",
            "3         1       1  0.433312  1.062038        True     False       False   \n",
            "4         0       3  0.433312 -0.784179       False      True       False   \n",
            "\n",
            "   Embarked_Q  Embarked_S  FamilySize  \n",
            "0       False        True           1  \n",
            "1       False       False           1  \n",
            "2       False        True           0  \n",
            "3       False        True           1  \n",
            "4       False        True           0  \n"
          ]
        }
      ]
    }
  ]
}